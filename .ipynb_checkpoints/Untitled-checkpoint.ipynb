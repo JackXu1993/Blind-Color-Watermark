{
 "cells": [
  {
   "cell_type": "code",
   "execution_count": 39,
   "metadata": {
    "collapsed": true
   },
   "outputs": [],
   "source": [
    "import re\n",
    "import cv2\n",
    "import math\n",
    "import time\n",
    "import socket\n",
    "import numpy as np\n",
    "from cv2 import cv\n",
    "from PIL import Image,ImageDraw,ImageFont,ImageGrab"
   ]
  },
  {
   "cell_type": "code",
   "execution_count": 40,
   "metadata": {
    "collapsed": true
   },
   "outputs": [],
   "source": [
    "hostname = socket.gethostname()\n",
    "ip = socket.gethostbyname(hostname)\n",
    "present_time = time.strftime('%Y-%m-%d %H:%M:%S',time.localtime(time.time()))\n",
    "\n",
    "#################################################################\n",
    "def num2bin(ip):\n",
    "    bin_ip = map('{0:08b}'.format, map(int, ip.split('.')))\n",
    "    return bin_ip\n"
   ]
  },
  {
   "cell_type": "code",
   "execution_count": 41,
   "metadata": {
    "collapsed": true
   },
   "outputs": [],
   "source": [
    "bin_ip = num2bin(ip)\n",
    "array_bin_ip = np.array(map(int, list(bin_ip[0]+bin_ip[1]+bin_ip[2]+bin_ip[3])))"
   ]
  },
  {
   "cell_type": "code",
   "execution_count": 42,
   "metadata": {
    "collapsed": false
   },
   "outputs": [
    {
     "data": {
      "text/plain": [
       "True"
      ]
     },
     "execution_count": 42,
     "metadata": {},
     "output_type": "execute_result"
    }
   ],
   "source": [
    "img = cv2.imread('web.png', 1)\n",
    "a = 10\n",
    "w, h = img.shape[:2]\n",
    "\n",
    "(B,G,R) = cv2.split(cv2.cvtColor(img, cv2.COLOR_BGR2YUV))\n",
    "new_Y = np.float32(B.copy())\n",
    "\n",
    "for i in range(32):\n",
    "    before_array_dct = new_Y[w-4:w,0+4*i:0+4*(i+1)]\n",
    "#     print before_array_dct\n",
    "    after_array_dct = cv2.dct(before_array_dct)\n",
    "#     print after_array_dct\n",
    "    before_array_idct = after_array_dct.copy()\n",
    "    before_array_idct[3,3] = a*array_bin_ip[i]\n",
    "#     print before_array_idct\n",
    "    after_array_idct = cv2.idct(before_array_idct)\n",
    "    maxium = max(after_array_idct.flatten())\n",
    "    minium = min(after_array_idct.flatten())\n",
    "    if maxium > 255:\n",
    "        after_array_idct = after_array_idct - (maxium - 255)\n",
    "    if minium < 0:\n",
    "        after_array_idct = after_array_idct - minium\n",
    "#     print after_array_idct\n",
    "#     print cv2.dct(after_array_idct)\n",
    "    new_Y[w-4:w,0+4*i:0+4*(i+1)] = after_array_idct\n",
    "\n",
    "new_img = cv2.cvtColor(img, cv2.COLOR_BGR2YUV)\n",
    "new_img[:,:,0] = new_Y\n",
    "\n",
    "after_convert = cv2.cvtColor(new_img, cv2.COLOR_YUV2BGR)\n",
    "# plt.plot,plt.imshow(new_img, \"gray\"), plt.title(\"DFT image\")\n",
    "# plt.show()\n",
    "\n",
    "cv2.imwrite('debug_YUV_shift_black.png', after_convert)"
   ]
  },
  {
   "cell_type": "code",
   "execution_count": 43,
   "metadata": {
    "collapsed": false
   },
   "outputs": [
    {
     "name": "stdout",
     "output_type": "stream",
     "text": [
      "192.168.0.102\n"
     ]
    }
   ],
   "source": [
    "measure = cv2.imread('debug_YUV_shift_black.png', 1)\n",
    "(measure_B,measure_G,measure_R) = cv2.split(cv2.cvtColor(measure, cv2.COLOR_BGR2YUV))\n",
    "restore_bin = np.zeros(32)\n",
    "\n",
    "for i in range(32):\n",
    "    measure_dft = cv2.dct(np.float32(measure_B[w-4:w,0+4*i:4+4*i]))\n",
    "    if measure_dft[3,3] > 5:\n",
    "        restore_bin[i] = 1\n",
    "\n",
    "restore_bin_array = np.array(map(int, restore_bin)).reshape((4,8))\n",
    "restore_ip = np.zeros(4)\n",
    "for i in range(4):\n",
    "    for j in range(8):\n",
    "        restore_ip[i] = restore_ip[i] + restore_bin_array[i][j]*2**(7-j)\n",
    "\n",
    "print str(int(restore_ip[0]))+'.'+str(int(restore_ip[1]))+'.'+str(int(restore_ip[2]))+'.'+str(int(restore_ip[3]))"
   ]
  },
  {
   "cell_type": "code",
   "execution_count": null,
   "metadata": {
    "collapsed": true
   },
   "outputs": [],
   "source": []
  }
 ],
 "metadata": {
  "anaconda-cloud": {},
  "kernelspec": {
   "display_name": "Python [conda root]",
   "language": "python",
   "name": "conda-root-py"
  },
  "language_info": {
   "codemirror_mode": {
    "name": "ipython",
    "version": 2
   },
   "file_extension": ".py",
   "mimetype": "text/x-python",
   "name": "python",
   "nbconvert_exporter": "python",
   "pygments_lexer": "ipython2",
   "version": "2.7.12"
  }
 },
 "nbformat": 4,
 "nbformat_minor": 1
}
